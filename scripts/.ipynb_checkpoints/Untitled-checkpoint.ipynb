{
 "cells": [
  {
   "cell_type": "code",
   "execution_count": 1,
   "metadata": {},
   "outputs": [],
   "source": [
    "import numpy as np\n",
    "import scipy as sp\n",
    "import matplotlib.pyplot as plt"
   ]
  },
  {
   "cell_type": "code",
   "execution_count": 39,
   "metadata": {},
   "outputs": [],
   "source": [
    "class Configuration:\n",
    "    # precision of angle values -> 0.0175 ~ 1 degree; 0.0873 ~ 5 degree\n",
    "    steering_angle_tolerance = 0.0175 # (0., 0.0873)\n",
    "    # angle, that has to be considered in both directions, when driving forward; 1.5707 ~ 90 degree\n",
    "    half_angle_front_init = 0.63 # (0., 1.5707)\n",
    "    # angle, that has to be considered in both directions, when driving backward; 1.5707 ~ 90 degree\n",
    "    half_angle_back_init = 0.33 # (0., 1.5707)\n",
    "    # distance from lidar (center) to trailing edge\n",
    "    reverse_minimum_distance = 0.29 # (0.0, 1.0)\n",
    "    # distance from lidar (center) to leading edge\n",
    "    forward_minimum_distance = 0.13 # (0.0, 1.0)\n",
    "    # points of what max. distance should be considered at all\n",
    "    maximum_lookahead_distance = 3.0 # (1.0, 6.0)\n",
    "    # car stops at that distance, independent of any other circumstances\n",
    "    stop_distance = 0.05 # (0.0, 2.0)\n",
    "    # distance to an obstacle, from which on the wanted speed gets damped linear\n",
    "    max_startup_damp_range = 3.0 # (0.0, 3.0)\n",
    "    # avg. deceleration of that specific car\n",
    "    negative_acceleration = 0.5 # (0.3, 1.0)\n",
    "    # value ...\n",
    "    target_quotient = 1.0 # (1.0, 1.5)\n",
    "    # distance from front to rear axle\n",
    "    wheelbase = 0.26 # (0., 0.5)\n",
    "    # distance of both middles of the tire widths of rear tires\n",
    "    track = 0.165 # (0.1, 0.3)\n",
    "    # distance from lidar (center) to rear axle\n",
    "    lidar_rear_axle_distance = 0.2 # (0.05, 0.4)\n",
    "    # total length of the car, including bumper etc\n",
    "    car_length = 0.43 # (0.3, 0.5)\n",
    "    # total width of the car\n",
    "    car_width = 0.19 # (0.15, 0.25)"
   ]
  },
  {
   "cell_type": "code",
   "execution_count": 40,
   "metadata": {},
   "outputs": [],
   "source": [
    "config = Configuration()"
   ]
  },
  {
   "cell_type": "code",
   "execution_count": 46,
   "metadata": {},
   "outputs": [],
   "source": [
    "# Library\n",
    "\n",
    "def getDistanceToCar(distanceToLidar, deg_step):\n",
    "    if deg_step < 90 or deg_step > 270:\n",
    "        return(distanceToLidar - config.forward_minimum_distance)\n",
    "    else:\n",
    "        return(distanceToLidar - config.reverse_minimum_distance)\n",
    "\n",
    "def getTurningRadius(steeringAngle):\n",
    "    return(config.wheelbase / np.tan(steeringAngle))\n",
    "\n",
    "def getX(radius, alpha, d):\n",
    "    t = np.cos(alpha) * d\n",
    "    h = np.sin(alpha) * d\n",
    "    s = radius - t\n",
    "    tan_beta = h / s\n",
    "    beta = np.arctan(tan_beta)\n",
    "    x = s / np.cos(beta)\n",
    "    return x\n",
    "\n",
    "\n",
    "def isOnPath(radius, x):\n",
    "    return(x < (radius + config.car_width/2) and x > (radius - config.car_width/2))\n",
    "\n",
    "\n",
    "def calculateSafeSpeed(distance, deceleration, targetQuotient):\n",
    "    return np.sqrt(distance * deceleration / targetQuotient)\n",
    "\n",
    "def safeDistanceQuotient(distance, deceleration, currentSpeed):\n",
    "    if currentSpeed == 0.0:\n",
    "        return float('inf')\n",
    "    return distance * deceleration / np.power(currentSpeed, 2)\n",
    "\n",
    "# works on actual lidar position & values\n",
    "def isOnStraightPath(posAngle, distance, backward):\n",
    "    distanceFromMiddle = np.sin(posAngle) * distance\n",
    "    safetyWidth = 0.02\n",
    "    if backward:\n",
    "        safetyWidth = 0.04\n",
    "    return(distanceFromMiddle < ((config.car_width + safetyWidth) / 2))\n",
    "\n",
    "def projectOnRearAxle(angle, distance, offset=config.lidar_rear_axle_distance):\n",
    "    newAngle = np.arctan((np.sin(angle) * distance) / (np.cos(angle) * distance + offset))\n",
    "    newDistance = np.sqrt(np.power(np.sin(angle) * distance, 2) + np.power(np.cos(angle) * distance + offset, 2))\n",
    "    return (newAngle, newDistance)\n",
    "\n",
    "def getProjectedAngle(angle, distance, offset=config.lidar_rear_axle_distance):\n",
    "    return(np.arctan((np.sin(angle) * distance) / (np.cos(angle) * distance + offset)))\n",
    "\n",
    "def getProjectedDistance(angle, distance, offset=config.lidar_rear_axle_distance):\n",
    "    return(np.sqrt(np.power(np.sin(angle) * distance, 2) + np.power(np.cos(angle) * distance + offset, 2)))\n"
   ]
  },
  {
   "cell_type": "code",
   "execution_count": 17,
   "metadata": {},
   "outputs": [],
   "source": [
    "steerAngMin = -0.785398\n",
    "steerAngMax = 0.785398"
   ]
  },
  {
   "cell_type": "code",
   "execution_count": 47,
   "metadata": {},
   "outputs": [],
   "source": [
    "steerDeg = 30"
   ]
  },
  {
   "cell_type": "code",
   "execution_count": 48,
   "metadata": {},
   "outputs": [],
   "source": [
    "steerAngMin = -np.deg2rad(steerDeg)\n",
    "steerAngMax = np.deg2rad(steerDeg)"
   ]
  },
  {
   "cell_type": "code",
   "execution_count": 49,
   "metadata": {},
   "outputs": [],
   "source": [
    "steeringAngles = np.arange(steerAngMin, steerAngMax, 0.0175)"
   ]
  },
  {
   "cell_type": "code",
   "execution_count": 57,
   "metadata": {},
   "outputs": [
    {
     "name": "stdout",
     "output_type": "stream",
     "text": [
      "0 Deg:    inf\n",
      "1 Deg:    14.8556261595\n",
      "30.0:    0.450333209968\n",
      "28.9973238585:    0.46910408821\n",
      "27.994647717:    0.489099097716\n",
      "26.9919715756:    0.510455541488\n",
      "25.9892954341:    0.533331871688\n",
      "24.9866192926:    0.557911933952\n",
      "23.9839431511:    0.584410276279\n",
      "22.9812670096:    0.613078847645\n",
      "21.9785908682:    0.64421553013\n",
      "20.9759147267:    0.678175118087\n",
      "19.9732385852:    0.715383604242\n",
      "18.9705624437:    0.756356996244\n",
      "17.9678863023:    0.801726433366\n",
      "16.9652101608:    0.852272209826\n",
      "15.9625340193:    0.908970620971\n",
      "14.9598578778:    0.973059648431\n",
      "13.9571817363:    1.04613295794\n",
      "12.9545055949:    1.13027754954\n",
      "11.9518294534:    1.2282806952\n",
      "10.9491533119:    1.34395057898\n",
      "9.94647717042:    1.48263087423\n",
      "8.94380102894:    1.65206145136\n",
      "7.94112488746:    1.86389114288\n",
      "6.93844874598:    2.13650216735\n",
      "5.93577260451:    2.50069717905\n",
      "4.93309646303:    3.01232184247\n",
      "3.93042032155:    3.78420801865\n",
      "2.92774418007:    5.08375520813\n",
      "1.92506803859:    7.73546511558\n",
      "0.922391897111:    16.1489012984\n",
      "0.0802842443682:    185.551885566\n",
      "1.08296038585:    13.7540844723\n",
      "2.08563652733:    7.13946183223\n",
      "3.0883126688:    4.81896576179\n",
      "4.09098881028:    3.63520392792\n",
      "5.09366495176:    2.91688530541\n",
      "6.09634109324:    2.43435249614\n",
      "7.09901723472:    2.08769665608\n",
      "8.1016933762:    1.82646824321\n",
      "9.10436951768:    1.62244192845\n",
      "10.1070456592:    1.45859275652\n",
      "11.1097218006:    1.32404185705\n",
      "12.1123979421:    1.21151254944\n",
      "13.1150740836:    1.11595336586\n",
      "14.1177502251:    1.03374785121\n",
      "15.1204263666:    0.96223876475\n",
      "16.123102508:    0.899429817705\n",
      "17.1257786495:    0.843792186316\n",
      "18.128454791:    0.794135234924\n",
      "19.1311309325:    0.749517891966\n",
      "20.1338070739:    0.709186507116\n",
      "21.1364832154:    0.672530396047\n",
      "22.1391593569:    0.639049465342\n",
      "23.1418354984:    0.608330253745\n",
      "24.1445116399:    0.580027943138\n",
      "25.1471877813:    0.553852673069\n",
      "26.1498639228:    0.529559003729\n",
      "27.1525400643:    0.506937713524\n",
      "28.1552162058:    0.48580934927\n",
      "29.1578923473:    0.466019107107\n"
     ]
    },
    {
     "name": "stderr",
     "output_type": "stream",
     "text": [
      "/usr/local/lib/python2.7/dist-packages/ipykernel_launcher.py:10: RuntimeWarning: divide by zero encountered in double_scalars\n",
      "  # Remove the CWD from sys.path while we load stuff.\n"
     ]
    }
   ],
   "source": [
    "print(\"0 Deg:    \" + str(getTurningRadius(0)))\n",
    "print(\"1 Deg:    \" + str(getTurningRadius(0.0175)))\n",
    "for stan in steeringAngles:\n",
    "    print(str(np.rad2deg(np.abs(stan))) + \":    \" + str(getTurningRadius(np.abs(stan))))"
   ]
  },
  {
   "cell_type": "code",
   "execution_count": 30,
   "metadata": {},
   "outputs": [
    {
     "data": {
      "text/plain": [
       "1.1475116368338036"
      ]
     },
     "execution_count": 30,
     "metadata": {},
     "output_type": "execute_result"
    }
   ],
   "source": [
    "np.tan(0.85398)"
   ]
  },
  {
   "cell_type": "code",
   "execution_count": 74,
   "metadata": {},
   "outputs": [],
   "source": [
    "angle = np.deg2rad(1)\n",
    "d = 3"
   ]
  },
  {
   "cell_type": "code",
   "execution_count": 75,
   "metadata": {},
   "outputs": [],
   "source": [
    "alpha, dist = projectOnRearAxle(angle, d)"
   ]
  },
  {
   "cell_type": "code",
   "execution_count": 76,
   "metadata": {},
   "outputs": [
    {
     "data": {
      "text/plain": [
       "0.93750260292028365"
      ]
     },
     "execution_count": 76,
     "metadata": {},
     "output_type": "execute_result"
    }
   ],
   "source": [
    "np.rad2deg(alpha)"
   ]
  },
  {
   "cell_type": "code",
   "execution_count": 77,
   "metadata": {},
   "outputs": [
    {
     "data": {
      "text/plain": [
       "3.199971442714399"
      ]
     },
     "execution_count": 77,
     "metadata": {},
     "output_type": "execute_result"
    }
   ],
   "source": [
    "dist"
   ]
  },
  {
   "cell_type": "code",
   "execution_count": 80,
   "metadata": {},
   "outputs": [
    {
     "name": "stdout",
     "output_type": "stream",
     "text": [
      "3.19997144271\n",
      "0.93750260292\n"
     ]
    }
   ],
   "source": [
    "print(getProjectedDistance(angle, d))\n",
    "print(np.rad2deg(getProjectedAngle(angle, d)))"
   ]
  },
  {
   "cell_type": "code",
   "execution_count": null,
   "metadata": {},
   "outputs": [],
   "source": []
  }
 ],
 "metadata": {
  "kernelspec": {
   "display_name": "Python 2",
   "language": "python",
   "name": "python2"
  },
  "language_info": {
   "codemirror_mode": {
    "name": "ipython",
    "version": 2
   },
   "file_extension": ".py",
   "mimetype": "text/x-python",
   "name": "python",
   "nbconvert_exporter": "python",
   "pygments_lexer": "ipython2",
   "version": "2.7.15rc1"
  }
 },
 "nbformat": 4,
 "nbformat_minor": 2
}
