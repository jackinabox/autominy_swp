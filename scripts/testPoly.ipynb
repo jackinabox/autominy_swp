{
 "cells": [
  {
   "cell_type": "code",
   "execution_count": 67,
   "metadata": {},
   "outputs": [],
   "source": [
    "import numpy as np\n",
    "import scipy as sp\n",
    "import matplotlib.pyplot as plt"
   ]
  },
  {
   "cell_type": "code",
   "execution_count": 3,
   "metadata": {},
   "outputs": [
    {
     "data": {
      "text/plain": [
       "\"\\n(0.1, ': ', 0.016666666666666666)\\n(0.2, ': ', 0.21666666666666667)\\n(0.3, ': ', 0.3833333333333333)\\n(0.4, ': ', 0.8833333333333334)\\n(0.5, ': ', 1.45)\\n(0.6, ': ', 2.1333333333333333)\\n(0.7, ': ', 3.1666666666666665)\\n(0.8, ': ', 3.8333333333333335)\\n(0.9, ': ', 5.0) # fake\\n(1.0, ': ', 6.0) # fake\\n\""
      ]
     },
     "execution_count": 3,
     "metadata": {},
     "output_type": "execute_result"
    }
   ],
   "source": [
    "\"\"\"\n",
    "(0.1, ': ', 0.016666666666666666)\n",
    "(0.2, ': ', 0.21666666666666667)\n",
    "(0.3, ': ', 0.3833333333333333)\n",
    "(0.4, ': ', 0.8833333333333334)\n",
    "(0.5, ': ', 1.45)\n",
    "(0.6, ': ', 2.1333333333333333)\n",
    "(0.7, ': ', 3.1666666666666665)\n",
    "(0.8, ': ', 3.8333333333333335)\n",
    "(0.9, ': ', 5.0) # fake\n",
    "(1.0, ': ', 6.0) # fake\n",
    "\"\"\""
   ]
  },
  {
   "cell_type": "code",
   "execution_count": 64,
   "metadata": {},
   "outputs": [],
   "source": [
    "x = np.array([.1, .2, .3, .4, .5, .6, .7, .8, .9, 1.])\n",
    "y = np.array([0.016666666666666666, 0.21666666666666667, 0.3833333333333333, 0.8833333333333334, 1.45, 2.1333333333333333, 3.1666666666666665, 3.8333333333333335, 5, 6])"
   ]
  },
  {
   "cell_type": "code",
   "execution_count": 10,
   "metadata": {},
   "outputs": [
    {
     "data": {
      "text/plain": [
       "[<matplotlib.lines.Line2D at 0x7f055585a810>]"
      ]
     },
     "execution_count": 10,
     "metadata": {},
     "output_type": "execute_result"
    },
    {
     "data": {
      "image/png": "[encoded data removed]",
      "text/plain": [
       "<matplotlib.figure.Figure at 0x7f05558e9790>"
      ]
     },
     "metadata": {
      "needs_background": "light"
     },
     "output_type": "display_data"
    }
   ],
   "source": [
    "plt.plot(x, y)"
   ]
  },
  {
   "cell_type": "code",
   "execution_count": 12,
   "metadata": {},
   "outputs": [],
   "source": [
    "polyfit = np.polynomial.polynomial.polyfit"
   ]
  },
  {
   "cell_type": "code",
   "execution_count": 52,
   "metadata": {},
   "outputs": [],
   "source": [
    "z = polyfit(x, y, 4)"
   ]
  },
  {
   "cell_type": "code",
   "execution_count": 53,
   "metadata": {},
   "outputs": [
    {
     "data": {
      "text/plain": [
       "array([ 0.07222222, -1.11722999,  7.41501554,  1.81623932, -2.18531469])"
      ]
     },
     "execution_count": 53,
     "metadata": {},
     "output_type": "execute_result"
    }
   ],
   "source": [
    "z"
   ]
  },
  {
   "cell_type": "code",
   "execution_count": 54,
   "metadata": {},
   "outputs": [],
   "source": [
    "p = np.poly1d(z)"
   ]
  },
  {
   "cell_type": "code",
   "execution_count": 55,
   "metadata": {},
   "outputs": [],
   "source": [
    "x_p = np.copy(x)"
   ]
  },
  {
   "cell_type": "code",
   "execution_count": 56,
   "metadata": {},
   "outputs": [
    {
     "data": {
      "text/plain": [
       "array([-1.93065061, -1.53428848, -1.0026717 , -0.3420703 ,  0.441419  ,\n",
       "        1.34187282,  2.35354112,  3.47084718,  4.68838762,  6.0009324 ])"
      ]
     },
     "execution_count": 56,
     "metadata": {},
     "output_type": "execute_result"
    }
   ],
   "source": [
    "y_p = p(x_p)\n",
    "y_p"
   ]
  },
  {
   "cell_type": "code",
   "execution_count": 57,
   "metadata": {},
   "outputs": [
    {
     "data": {
      "text/plain": [
       "[<matplotlib.lines.Line2D at 0x7f0555625b90>]"
      ]
     },
     "execution_count": 57,
     "metadata": {},
     "output_type": "execute_result"
    },
    {
     "data": {
      "image/png": "[encoded data removed]",
      "text/plain": [
       "<matplotlib.figure.Figure at 0x7f0555706590>"
      ]
     },
     "metadata": {
      "needs_background": "light"
     },
     "output_type": "display_data"
    }
   ],
   "source": [
    "plt.plot(x_p, y_p)"
   ]
  },
  {
   "cell_type": "code",
   "execution_count": 58,
   "metadata": {},
   "outputs": [
    {
     "name": "stdout",
     "output_type": "stream",
     "text": [
      "[ 0.01666667  0.21666667  0.38333333  0.88333333  1.45        2.13333333\n",
      "  3.16666667  3.83333333  5.          6.        ]\n",
      "[-1.93065061 -1.53428848 -1.0026717  -0.3420703   0.441419    1.34187282\n",
      "  2.35354112  3.47084718  4.68838762  6.0009324 ]\n"
     ]
    }
   ],
   "source": [
    "print(y)\n",
    "print(y_p)"
   ]
  },
  {
   "cell_type": "code",
   "execution_count": null,
   "metadata": {},
   "outputs": [],
   "source": []
  },
  {
   "cell_type": "code",
   "execution_count": 63,
   "metadata": {},
   "outputs": [
    {
     "data": {
      "text/plain": [
       "array([-5.01, -4.76, -4.51, -4.26, -4.01, -3.76, -3.51, -3.26, -3.01,\n",
       "       -2.76, -2.51, -2.26, -2.01, -1.76, -1.51, -1.26, -1.01, -0.76,\n",
       "       -0.51, -0.26, -0.01,  0.24,  0.49,  0.74,  0.99,  1.24,  1.49,\n",
       "        1.74,  1.99,  2.24,  2.49,  2.74,  2.99,  3.24,  3.49,  3.74,\n",
       "        3.99,  4.24,  4.49,  4.74,  4.99])"
      ]
     },
     "execution_count": 63,
     "metadata": {},
     "output_type": "execute_result"
    }
   ],
   "source": [
    "y"
   ]
  },
  {
   "cell_type": "code",
   "execution_count": 69,
   "metadata": {},
   "outputs": [],
   "source": [
    "from scipy.interpolate import interp1d\n",
    "f = interp1d(x, y, kind='cubic')"
   ]
  },
  {
   "cell_type": "code",
   "execution_count": 73,
   "metadata": {},
   "outputs": [
    {
     "data": {
      "image/png": "[encoded data removed]",
      "text/plain": [
       "<matplotlib.figure.Figure at 0x7f0542ff0290>"
      ]
     },
     "metadata": {
      "needs_background": "light"
     },
     "output_type": "display_data"
    }
   ],
   "source": [
    "xnew = np.linspace(0.1, 1, num=51, endpoint=True)\n",
    "plt.plot(x, y, 'o', xnew, f(xnew), '-')\n",
    "plt.show()"
   ]
  },
  {
   "cell_type": "code",
   "execution_count": 74,
   "metadata": {},
   "outputs": [
    {
     "data": {
      "text/plain": [
       "array([ 0.01666667,  0.21666667,  0.38333333,  0.88333333,  1.45      ,\n",
       "        2.13333333,  3.16666667,  3.83333333,  5.        ,  6.        ])"
      ]
     },
     "execution_count": 74,
     "metadata": {},
     "output_type": "execute_result"
    }
   ],
   "source": [
    "y"
   ]
  },
  {
   "cell_type": "code",
   "execution_count": 78,
   "metadata": {},
   "outputs": [
    {
     "data": {
      "text/plain": [
       "array(2.664118143822283)"
      ]
     },
     "execution_count": 78,
     "metadata": {},
     "output_type": "execute_result"
    }
   ],
   "source": [
    "f(0.65)"
   ]
  },
  {
   "cell_type": "code",
   "execution_count": null,
   "metadata": {},
   "outputs": [],
   "source": []
  }
 ],
 "metadata": {
  "kernelspec": {
   "display_name": "Python 2",
   "language": "python",
   "name": "python2"
  },
  "language_info": {
   "codemirror_mode": {
    "name": "ipython",
    "version": 2
   },
   "file_extension": ".py",
   "mimetype": "text/x-python",
   "name": "python",
   "nbconvert_exporter": "python",
   "pygments_lexer": "ipython2",
   "version": "2.7.15rc1"
  }
 },
 "nbformat": 4,
 "nbformat_minor": 2
}
